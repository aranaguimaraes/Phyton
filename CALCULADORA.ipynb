{
 "cells": [
  {
   "cell_type": "markdown",
   "metadata": {},
   "source": [
    "# <font color='green'>CALCULADORA EM PYTHON - EXERCICIO"
   ]
  },
  {
   "cell_type": "code",
   "execution_count": 1,
   "metadata": {},
   "outputs": [
    {
     "name": "stdout",
     "output_type": "stream",
     "text": [
      "********** Calculadora em Python **********\n"
     ]
    }
   ],
   "source": [
    "print (\"********** Calculadora em Python **********\")"
   ]
  },
  {
   "cell_type": "code",
   "execution_count": 2,
   "metadata": {},
   "outputs": [],
   "source": [
    "def soma (x,y):\n",
    "    return x + y\n",
    "\n",
    "def subtracao (x,y):\n",
    "    return x - y\n",
    "\n",
    "def multiplicacao (x,y):\n",
    "    return x * y\n",
    "\n",
    "def divisao (x,y):\n",
    "    return x / y\n",
    "\n"
   ]
  },
  {
   "cell_type": "code",
   "execution_count": 3,
   "metadata": {},
   "outputs": [
    {
     "name": "stdout",
     "output_type": "stream",
     "text": [
      "Digite a opção desejada (1,2,3,4) = 3\n",
      "Digite o primeiro número da operação : 10\n",
      "Digite o segundo número da operação : 10\n"
     ]
    }
   ],
   "source": [
    "def pergunta ():\n",
    "    \n",
    "    print (\"Selecione a opção desejada:\")\n",
    "    print()\n",
    "    print (\"1 - Soma\")\n",
    "    print (\"1 - Subtração\")\n",
    "    print (\"1 - Multiplicação\")\n",
    "    print (\"1 - Divisão\")\n",
    "    print ()\n",
    "\n",
    "numEscolha = int (input (\"Digite a opção desejada (1,2,3,4) = \"))\n",
    "numx = int (input (\"Digite o primeiro número da operação : \"))\n",
    "numy = int (input (\"Digite o segundo número da operação : \"))\n"
   ]
  },
  {
   "cell_type": "code",
   "execution_count": 4,
   "metadata": {},
   "outputs": [
    {
     "name": "stdout",
     "output_type": "stream",
     "text": [
      "10 x 10 = 100\n"
     ]
    }
   ],
   "source": [
    "if numEscolha == 1:\n",
    "    print ( numx, \"+\", numy, \"=\", soma(numx,numy))\n",
    "    \n",
    "elif numEscolha == 2:\n",
    "    print ( numx, \"-\", numy, \"=\", subtracao(numx,numy))\n",
    "    \n",
    "elif numEscolha == 3:\n",
    "    print ( numx, \"x\", numy, \"=\", multiplicacao(numx,numy))\n",
    "        \n",
    "elif numEscolha == 4:\n",
    "    print ( numx, \"/\", numy, \"=\", divisao (numx,numy))\n",
    "            \n",
    "else:\n",
    "    print (\"Opção Errada\")\n",
    "                "
   ]
  },
  {
   "cell_type": "code",
   "execution_count": null,
   "metadata": {},
   "outputs": [],
   "source": []
  },
  {
   "cell_type": "code",
   "execution_count": null,
   "metadata": {},
   "outputs": [],
   "source": []
  },
  {
   "cell_type": "code",
   "execution_count": null,
   "metadata": {},
   "outputs": [],
   "source": []
  },
  {
   "cell_type": "code",
   "execution_count": null,
   "metadata": {},
   "outputs": [],
   "source": []
  }
 ],
 "metadata": {
  "kernelspec": {
   "display_name": "Python 3",
   "language": "python",
   "name": "python3"
  },
  "language_info": {
   "codemirror_mode": {
    "name": "ipython",
    "version": 3
   },
   "file_extension": ".py",
   "mimetype": "text/x-python",
   "name": "python",
   "nbconvert_exporter": "python",
   "pygments_lexer": "ipython3",
   "version": "3.7.6"
  }
 },
 "nbformat": 4,
 "nbformat_minor": 4
}
